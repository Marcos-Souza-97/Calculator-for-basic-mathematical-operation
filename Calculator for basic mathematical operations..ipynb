{
 "cells": [
  {
   "cell_type": "code",
   "execution_count": 1,
   "id": "0ac69e54",
   "metadata": {},
   "outputs": [
    {
     "name": "stdout",
     "output_type": "stream",
     "text": [
      "Bem-vindo ,calculadora\n",
      "Insira o primeiro número; 2\n",
      "Insira o segundo número; 3\n",
      "Escolha a operação, +,-,/ ou *; +\n",
      "Resultado 5\n"
     ]
    }
   ],
   "source": [
    "print (\"Bem-vindo ,calculadora\")\n",
    "\n",
    "num1 = int (input (\"Insira o primeiro número; \"))\n",
    "num2 = int (input (\"Insira o segundo número; \"))\n",
    "operaçao = (input (\"Escolha a operação, +,-,/ ou *; \"))\n",
    "\n",
    "if operaçao == \"+\":\n",
    "    resultado = num1 + num2\n",
    "    print (\"Resultado\",resultado)\n",
    "elif operaçao == \"-\":\n",
    "    resultado = num1 - num2\n",
    "    print (\"Resultado\",resultado)\n",
    "elif operaçao == \"/\":\n",
    "    resultado = num1 / num2\n",
    "    print (\"Resultado\",resultado)\n",
    "elif operaçao == \"*\":\n",
    "    resultado = num1 * num2\n",
    "    print (\"Resultado\", resultado)\n",
    "else:\n",
    "    print (\"Operação invalida, tente novamente\")"
   ]
  },
  {
   "cell_type": "code",
   "execution_count": null,
   "id": "963d41cf",
   "metadata": {},
   "outputs": [],
   "source": []
  }
 ],
 "metadata": {
  "kernelspec": {
   "display_name": "Python 3 (ipykernel)",
   "language": "python",
   "name": "python3"
  },
  "language_info": {
   "codemirror_mode": {
    "name": "ipython",
    "version": 3
   },
   "file_extension": ".py",
   "mimetype": "text/x-python",
   "name": "python",
   "nbconvert_exporter": "python",
   "pygments_lexer": "ipython3",
   "version": "3.9.13"
  }
 },
 "nbformat": 4,
 "nbformat_minor": 5
}
